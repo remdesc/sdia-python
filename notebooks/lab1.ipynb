{
 "cells": [
  {
   "cell_type": "markdown",
   "source": [
<<<<<<< HEAD
    "# Practical session 1 - Some Python basics\n",
    "\n",
    "Course: [SDIA-Python](https://github.com/guilgautier/sdia-python)\n",
    "\n",
    "Dates: 09/21/2021-09/22/2021\n",
    "\n",
    "Instructor: [Guillaume Gautier](https://guilgautier.github.io/)\n",
    "\n",
    "Students (pair):\n",
    "- [Virgile Valiau]([link](https://github.com/VirgileValiau)\n",
    "- [Rémy Descarpentries]([link](https://github.com/remdesc)"
=======
    "# Practical session 1 - Some Python basics\r\n",
    "\r\n",
    "Course: [SDIA-Python](https://github.com/guilgautier/sdia-python)\r\n",
    "\r\n",
    "Dates: 09/21/2021-09/22/2021\r\n",
    "\r\n",
    "Instructor: [Guillaume Gautier](https://guilgautier.github.io/)\r\n",
    "\r\n",
    "Students (pair):\r\n",
    "- [Rémy Descarpentries]([link](https://github.com/remdesc))\r\n",
    "- [Virgile Valiau]([link](https://github.com/VirgileValiau))"
>>>>>>> 2b651926767e37963a4607c92d96ff584b09c5db
   ],
   "metadata": {}
  },
  {
   "cell_type": "code",
   "execution_count": 7,
   "source": [
    "%load_ext autoreload\r\n",
    "%autoreload 2"
   ],
   "outputs": [
    {
     "output_type": "stream",
     "name": "stdout",
     "text": [
      "The autoreload extension is already loaded. To reload it, use:\n",
      "  %reload_ext autoreload\n"
     ]
    }
   ],
   "metadata": {}
  },
  {
   "cell_type": "markdown",
   "source": [
    "## Documentation\n",
    "\n",
    "To display the documentation associated to a Python function in your notebook (launched in VSCode), you can either\n",
    "- run `?functionname` or `help(my_adder)`\n",
    "- place your mouse pointer on the function name\n",
    "- write the name of the function and start opening the brackets"
   ],
   "metadata": {}
  },
  {
   "cell_type": "markdown",
   "source": [
    "## Zen of Python\n"
   ],
   "metadata": {}
  },
  {
   "cell_type": "code",
   "execution_count": 2,
   "source": [
    "import this"
   ],
   "outputs": [
    {
     "output_type": "stream",
     "name": "stdout",
     "text": [
      "The Zen of Python, by Tim Peters\n",
      "\n",
      "Beautiful is better than ugly.\n",
      "Explicit is better than implicit.\n",
      "Simple is better than complex.\n",
      "Complex is better than complicated.\n",
      "Flat is better than nested.\n",
      "Sparse is better than dense.\n",
      "Readability counts.\n",
      "Special cases aren't special enough to break the rules.\n",
      "Although practicality beats purity.\n",
      "Errors should never pass silently.\n",
      "Unless explicitly silenced.\n",
      "In the face of ambiguity, refuse the temptation to guess.\n",
      "There should be one-- and preferably only one --obvious way to do it.\n",
      "Although that way may not be obvious at first unless you're Dutch.\n",
      "Now is better than never.\n",
      "Although never is often better than *right* now.\n",
      "If the implementation is hard to explain, it's a bad idea.\n",
      "If the implementation is easy to explain, it may be a good idea.\n",
      "Namespaces are one honking great idea -- let's do more of those!\n"
     ]
    }
   ],
   "metadata": {}
  },
  {
   "cell_type": "markdown",
   "source": [
    "## Reserved keywords\n"
   ],
   "metadata": {}
  },
  {
   "cell_type": "code",
   "execution_count": 3,
   "source": [
    "import keyword\r\n",
    "print(keyword.kwlist)"
   ],
   "outputs": [
    {
     "output_type": "stream",
     "name": "stdout",
     "text": [
      "['False', 'None', 'True', 'and', 'as', 'assert', 'async', 'await', 'break', 'class', 'continue', 'def', 'del', 'elif', 'else', 'except', 'finally', 'for', 'from', 'global', 'if', 'import', 'in', 'is', 'lambda', 'nonlocal', 'not', 'or', 'pass', 'raise', 'return', 'try', 'while', 'with', 'yield']\n"
     ]
    }
   ],
   "metadata": {}
  },
  {
   "cell_type": "markdown",
   "source": [
    "## Arithmetic"
   ],
   "metadata": {}
  },
  {
   "cell_type": "markdown",
   "source": [
    "Compute 4 raised to the power 8"
   ],
   "metadata": {}
  },
  {
   "cell_type": "code",
<<<<<<< HEAD
   "execution_count": 4,
   "source": [
    "print (4**8)"
   ],
   "outputs": [
    {
     "output_type": "stream",
     "name": "stdout",
     "text": [
      "65536\n"
     ]
    }
   ],
=======
   "execution_count": null,
   "source": [
    "print(4**8)"
   ],
   "outputs": [],
>>>>>>> 2b651926767e37963a4607c92d96ff584b09c5db
   "metadata": {}
  },
  {
   "cell_type": "markdown",
   "source": [
    "Compute the quotient and the remainder of the euclidean division of 17 by 3. "
   ],
   "metadata": {}
  },
  {
   "cell_type": "code",
<<<<<<< HEAD
   "execution_count": 5,
   "source": [
    "print (17//3)\r\n",
    "print (17%3)"
   ],
   "outputs": [
    {
     "output_type": "stream",
     "name": "stdout",
     "text": [
      "5\n",
      "2\n"
     ]
    }
   ],
=======
   "execution_count": null,
   "source": [
    "a=17\r\n",
    "b=3\r\n",
    "print(a//b)\r\n",
    "print(a%b)"
   ],
   "outputs": [],
>>>>>>> 2b651926767e37963a4607c92d96ff584b09c5db
   "metadata": {}
  },
  {
   "cell_type": "markdown",
   "source": [
    "Create two integer variables `a, b` of your choice and swap their content."
   ],
   "metadata": {}
  },
  {
   "cell_type": "code",
<<<<<<< HEAD
   "execution_count": 13,
   "source": [
    "a = 5\r\n",
    "b = 1\r\n",
    "print (a, b)\r\n",
    "c = a\r\n",
    "a = b\r\n",
    "b = c\r\n",
    "print (a, b)"
   ],
   "outputs": [
    {
     "output_type": "stream",
     "name": "stdout",
     "text": [
      "5 1\n",
      "1 5\n"
     ]
    }
   ],
=======
   "execution_count": null,
   "source": [
    "a=5\r\n",
    "b=2\r\n",
    "a,b=b,a\r\n",
    "print(a,b)"
   ],
   "outputs": [],
>>>>>>> 2b651926767e37963a4607c92d96ff584b09c5db
   "metadata": {}
  },
  {
   "cell_type": "markdown",
   "source": [
    "Modify `a` inplace, so that the new value of `a` is twice its previous value."
   ],
   "metadata": {}
  },
  {
   "cell_type": "code",
<<<<<<< HEAD
   "execution_count": 14,
   "source": [
    "a = 2*a\r\n",
    "print (a)"
   ],
   "outputs": [
    {
     "output_type": "stream",
     "name": "stdout",
     "text": [
      "2\n"
     ]
    }
   ],
=======
   "execution_count": null,
   "source": [
    "a=2*a\r\n",
    "print(a)"
   ],
   "outputs": [],
>>>>>>> 2b651926767e37963a4607c92d96ff584b09c5db
   "metadata": {}
  },
  {
   "cell_type": "markdown",
   "source": [
    "Define a complex number `z` and print it as\n",
    "\n",
    "`real=real-part, imag=imaginary-part`"
   ],
   "metadata": {}
  },
  {
   "cell_type": "code",
<<<<<<< HEAD
   "execution_count": 17,
   "source": [
    "z = complex(-1, 3)\r\n",
    "print ('real=',z.real,', imag=',z.imag)\r\n"
   ],
   "outputs": [
    {
     "output_type": "stream",
     "name": "stdout",
     "text": [
      "real= -1.0 , imag= 3.0\n"
     ]
    }
   ],
=======
   "execution_count": null,
   "source": [
    "z = complex(5,42)\r\n",
    "print('real = ' + str(z.real) + ', imag = ' + str(z.imag))\r\n"
   ],
   "outputs": [],
>>>>>>> 2b651926767e37963a4607c92d96ff584b09c5db
   "metadata": {}
  },
  {
   "cell_type": "markdown",
   "source": [
    "## Strings\n"
   ],
   "metadata": {}
  },
  {
   "cell_type": "markdown",
   "source": [
    "Propose two ways to define an empty string"
   ],
   "metadata": {}
  },
  {
   "cell_type": "code",
<<<<<<< HEAD
   "execution_count": 18,
   "source": [
    "a = ''\r\n",
    "b = str()\r\n",
    "print (a, b)"
   ],
   "outputs": [
    {
     "output_type": "stream",
     "name": "stdout",
     "text": [
      " \n"
     ]
    }
   ],
=======
   "execution_count": null,
   "source": [
    "a=''\r\n",
    "b=str()\r\n",
    "print(a,b)"
   ],
   "outputs": [],
>>>>>>> 2b651926767e37963a4607c92d96ff584b09c5db
   "metadata": {}
  },
  {
   "cell_type": "markdown",
   "source": [
    "Define a string made of the 26 letters of the alphabet (lower case), then\n",
    "- What is the 12th letter of the alphabet\n",
    "- What are the 10 last letters of the alphabet\n",
    "- What are the 5th to the 10th letters of the alphabet\n",
    "- Create a new string where the 26 letters are converted to upper case."
   ],
   "metadata": {}
  },
  {
   "cell_type": "code",
<<<<<<< HEAD
   "execution_count": 24,
   "source": [
    "a = 'abcdefghijklmnopqrstuvwyz'\r\n",
    "print (a[11])\r\n",
    "print (a[-10::])\r\n",
    "print (a[4:10])\r\n",
    "b = a.upper()\r\n",
    "print (b)"
   ],
   "outputs": [
    {
     "output_type": "stream",
     "name": "stdout",
     "text": [
      "l\n",
      "pqrstuvwyz\n",
      "efghij\n",
      "ABCDEFGHIJKLMNOPQRSTUVWYZ\n"
     ]
    }
   ],
=======
   "execution_count": null,
   "source": [
    "Alphabet = 'abcdefghijklmnopqrstuvwxyz'\r\n",
    "print(Alphabet[11]) #12ème lettre de l'Alphabet\r\n",
    "print(Alphabet[len(Alphabet)-10:]) #10 dernières lettres de l'Alphabet\r\n",
    "print(Alphabet[4:10])\r\n",
    "Alphabet2 = Alphabet.upper()\r\n",
    "print(Alphabet2)"
   ],
   "outputs": [],
>>>>>>> 2b651926767e37963a4607c92d96ff584b09c5db
   "metadata": {}
  },
  {
   "cell_type": "markdown",
   "source": [
    "Extract the first 4 digits of the number `x = 2341324530045968` (answer is `2341`)."
   ],
   "metadata": {}
  },
  {
   "cell_type": "code",
<<<<<<< HEAD
   "execution_count": 26,
   "source": [
    "x = 2341324530045968\r\n",
    "x = str(x)\r\n",
    "print(x[0:4])"
   ],
   "outputs": [
    {
     "output_type": "stream",
     "name": "stdout",
     "text": [
      "2341\n"
     ]
    }
   ],
=======
   "execution_count": null,
   "source": [
    "x = 2341324530045968\r\n",
    "y=str(x)\r\n",
    "y=y[:4]\r\n",
    "y=int(y)\r\n",
    "print(y)"
   ],
   "outputs": [],
>>>>>>> 2b651926767e37963a4607c92d96ff584b09c5db
   "metadata": {}
  },
  {
   "cell_type": "markdown",
   "source": [
    "## Lists"
   ],
   "metadata": {}
  },
  {
   "cell_type": "markdown",
   "source": [
    "Propose two ways to define an empty list."
   ],
   "metadata": {}
  },
  {
   "cell_type": "code",
<<<<<<< HEAD
   "execution_count": 27,
   "source": [
    "l = []\r\n",
    "l1 = list()\r\n",
    "print (l, l1)"
   ],
   "outputs": [
    {
     "output_type": "stream",
     "name": "stdout",
     "text": [
      "[] []\n"
     ]
    }
   ],
=======
   "execution_count": null,
   "source": [
    "L1=[]\r\n",
    "L2=list()\r\n",
    "print(L1,L2)"
   ],
   "outputs": [],
>>>>>>> 2b651926767e37963a4607c92d96ff584b09c5db
   "metadata": {}
  },
  {
   "cell_type": "markdown",
   "source": [
    "Create the list of consecutive integers from 5 to 11."
   ],
   "metadata": {}
  },
  {
   "cell_type": "code",
<<<<<<< HEAD
   "execution_count": 29,
   "source": [
    "l = [i for i in range(5,12)]\r\n",
    "print (l)"
   ],
   "outputs": [
    {
     "output_type": "stream",
     "name": "stdout",
     "text": [
      "[5, 6, 7, 8, 9, 10, 11]\n"
     ]
    }
   ],
=======
   "execution_count": null,
   "source": [
    "L=[5,6,7,8,9,10,11]"
   ],
   "outputs": [],
>>>>>>> 2b651926767e37963a4607c92d96ff584b09c5db
   "metadata": {}
  },
  {
   "cell_type": "markdown",
   "source": [
    "Add `100` to this list."
   ],
   "metadata": {}
  },
  {
   "cell_type": "code",
<<<<<<< HEAD
   "execution_count": 30,
   "source": [
    "l1 = l + [100]\r\n",
    "print (l1)"
   ],
   "outputs": [
    {
     "output_type": "stream",
     "name": "stdout",
     "text": [
      "[5, 6, 7, 8, 9, 10, 11, 100]\n"
     ]
    }
   ],
=======
   "execution_count": null,
   "source": [
    "L.append(100)\r\n",
    "print(L)"
   ],
   "outputs": [],
>>>>>>> 2b651926767e37963a4607c92d96ff584b09c5db
   "metadata": {}
  },
  {
   "cell_type": "markdown",
   "source": [
    "Given the following list, \n",
    "Change the `\"sdia\"` to its reverse (`\"aids\"`)."
   ],
   "metadata": {}
  },
  {
   "cell_type": "code",
   "execution_count": 40,
   "source": [
    "x = [10, [3, 4], [5, [100, 200, [\"sdia\"]], 23, 11], 1, 7]\r\n",
<<<<<<< HEAD
    "x[2][1][2][0] = x[2][1][2][0][::-1]\r\n",
    "x"
   ],
   "outputs": [
    {
     "output_type": "execute_result",
     "data": {
      "text/plain": [
       "[10, [3, 4], [5, [100, 200, ['aids']], 23, 11], 1, 7]"
      ]
     },
     "metadata": {},
     "execution_count": 40
    }
=======
    "x[2][1][2][0] = ''.join(reversed(x[2][1][2][0]))\r\n",
    "print(x)"
>>>>>>> 2b651926767e37963a4607c92d96ff584b09c5db
   ],
   "metadata": {}
  },
  {
   "cell_type": "markdown",
   "source": [
    "Given the following list, \n",
    "\n",
    "  1. extract the first two items\n",
    "  2. extract the last two items\n",
    "  3. find the index of the first occurence of `9`\n",
    "  4. extract the items located at odd indices\n",
    "  5. create a new list which corresponds to the reversed version of the originial list\n",
    "  6. create a new list where each item of the original list is raised to the power 3"
   ],
   "metadata": {}
  },
  {
   "cell_type": "code",
   "execution_count": 47,
   "source": [
    "x = [3, 7, 5, 3, 8, 6, 8, 8, 0, 7, 3, 9, 3, 4, 2, 7, 0, 9, 5, 0, 0, 9, 0, 9, 3, 1, 4, 0, 5, 5, 5, 8, 9, 9, 5, 5, 4, 9, 5, 6, 2, 8, 5, 2, 4, 9, 2, 2, 3, 1]\r\n",
<<<<<<< HEAD
    "print (x[0:2])\r\n",
    "print (x[-2::])\r\n",
    "print (x.index(9))\r\n",
    "print ([x[i] for i in range (1, len(x), 2)])\r\n",
    "y = x[::-1]\r\n",
    "print (y)\r\n",
    "z = [i**3 for i in x]\r\n",
    "print (z)"
   ],
   "outputs": [
    {
     "output_type": "stream",
     "name": "stdout",
     "text": [
      "[3, 7]\n",
      "[3, 1]\n",
      "11\n",
      "[7, 3, 6, 8, 7, 9, 4, 7, 9, 0, 9, 9, 1, 0, 5, 8, 9, 5, 9, 6, 8, 2, 9, 2, 1]\n",
      "[1, 3, 2, 2, 9, 4, 2, 5, 8, 2, 6, 5, 9, 4, 5, 5, 9, 9, 8, 5, 5, 5, 0, 4, 1, 3, 9, 0, 9, 0, 0, 5, 9, 0, 7, 2, 4, 3, 9, 3, 7, 0, 8, 8, 6, 8, 3, 5, 7, 3]\n",
      "[27, 343, 125, 27, 512, 216, 512, 512, 0, 343, 27, 729, 27, 64, 8, 343, 0, 729, 125, 0, 0, 729, 0, 729, 27, 1, 64, 0, 125, 125, 125, 512, 729, 729, 125, 125, 64, 729, 125, 216, 8, 512, 125, 8, 64, 729, 8, 8, 27, 1]\n"
     ]
    }
=======
    "\r\n",
    "#1) Extraction of first two terms :\r\n",
    "L1=x[:2]\r\n",
    "print('L1='+str(L1))\r\n",
    "\r\n",
    "#2) Extraction of two last terms : \r\n",
    "L2=x[len(x)-2:]\r\n",
    "print(L2)\r\n",
    "\r\n",
    "#3) index of the first occurence of 9 :\r\n",
    "for i in range(len(x)):\r\n",
    "    if x[i]==9:\r\n",
    "        print(i)\r\n",
    "        break\r\n",
    "\r\n",
    "#4) odd indices :\r\n",
    "odds=[]\r\n",
    "for i in range(len(x)):\r\n",
    "    if i%2==1:\r\n",
    "        odds.append(x[i])\r\n",
    "print(odds)\r\n",
    "\r\n",
    "#5) reversed version of x\r\n",
    "Xreverse = []\r\n",
    "for i in range(len(x)):\r\n",
    "    Xreverse.append(x[len(x)-i-1])\r\n",
    "print(Xreverse)\r\n",
    "\r\n",
    "#6) x power 3\r\n",
    "xcube=[value**3 for value in x]\r\n",
    "print(xcube)\r\n"
>>>>>>> 2b651926767e37963a4607c92d96ff584b09c5db
   ],
   "metadata": {}
  },
  {
   "cell_type": "markdown",
   "source": [
    "## Tuples"
   ],
   "metadata": {}
  },
  {
   "cell_type": "markdown",
   "source": [
    "\r\n",
    "Propose two ways to define an empty tuple."
   ],
   "metadata": {}
  },
  {
   "cell_type": "code",
<<<<<<< HEAD
   "execution_count": 48,
   "source": [
    "a = ()\r\n",
    "b = tuple ()\r\n",
    "print (a, b)"
   ],
   "outputs": [
    {
     "output_type": "stream",
     "name": "stdout",
     "text": [
      "() ()\n"
     ]
    }
   ],
=======
   "execution_count": null,
   "source": [
    "tuple1 = tuple()\r\n",
    "tuple2 = ()\r\n",
    "print(tuple1,tuple2)"
   ],
   "outputs": [],
>>>>>>> 2b651926767e37963a4607c92d96ff584b09c5db
   "metadata": {}
  },
  {
   "cell_type": "markdown",
   "source": [
    "Given the following tuple :\r\n",
    "  try to replace the second item (4) to 8\r\n",
    "  modify the list so that the second element of the first item is raised to the power 5"
   ],
   "metadata": {}
  },
  {
   "cell_type": "markdown",
   "source": [
    "x = ([1, 2, 3], 4)"
   ],
   "metadata": {}
  },
  {
   "cell_type": "code",
<<<<<<< HEAD
   "execution_count": 52,
   "source": [
    "x = ([1, 2, 3], 4)\r\n",
    "y = (x[0], 8)\r\n",
    "print (y)\r\n",
    "x[0][1]=x[0][1]**5\r\n",
    "print (x)"
   ],
   "outputs": [
    {
     "output_type": "stream",
     "name": "stdout",
     "text": [
      "([1, 2, 3], 8)\n",
      "([1, 32, 3], 4)\n"
     ]
    }
   ],
=======
   "execution_count": null,
   "source": [
    "#1\r\n",
    "x=([1,2,3],4)\r\n",
    "y=(x[0],8)\r\n",
    "print(y)\r\n",
    "\r\n",
    "#2\r\n",
    "a=y[0][1]**3\r\n",
    "y=([y[0][0],a,y[0][2]],y[1])\r\n",
    "print(y)"
   ],
   "outputs": [],
>>>>>>> 2b651926767e37963a4607c92d96ff584b09c5db
   "metadata": {}
  },
  {
   "cell_type": "markdown",
   "source": [
    "What is the main difference between a list and a tuple?"
   ],
   "metadata": {}
  },
  {
   "cell_type": "markdown",
   "source": [
<<<<<<< HEAD
    "ANSWER : Elements from a list can be modified, not for a tuple."
=======
    "The main difference is that tuples doesn't support item assignements"
>>>>>>> 2b651926767e37963a4607c92d96ff584b09c5db
   ],
   "metadata": {}
  },
  {
   "cell_type": "markdown",
   "source": [
    "## Sets"
   ],
   "metadata": {}
  },
  {
   "cell_type": "markdown",
   "source": [
    "Create an empty set"
   ],
   "metadata": {}
  },
  {
   "cell_type": "code",
<<<<<<< HEAD
   "execution_count": 54,
   "source": [
    "x = {}\r\n",
    "y = set()\r\n",
    "print (x, y)"
   ],
   "outputs": [
    {
     "output_type": "stream",
     "name": "stdout",
     "text": [
      "{} set()\n"
     ]
    }
   ],
=======
   "execution_count": null,
   "source": [
    "S=set()\r\n",
    "S2={}\r\n",
    "print(S,S2)"
   ],
   "outputs": [],
>>>>>>> 2b651926767e37963a4607c92d96ff584b09c5db
   "metadata": {}
  },
  {
   "cell_type": "markdown",
   "source": [
    "Compute the intersection between $A = \\{1, 2, 3\\}$ and $B = \\{2, 4, 5, 6\\}$."
   ],
   "metadata": {}
  },
  {
   "cell_type": "code",
<<<<<<< HEAD
   "execution_count": 56,
   "source": [
    "A = {1, 2, 3} \r\n",
    "B = {2, 4, 5, 6}\r\n",
    "print(A.intersection(B))"
   ],
   "outputs": [
    {
     "output_type": "stream",
     "name": "stdout",
     "text": [
      "{2}\n"
     ]
    }
   ],
=======
   "execution_count": null,
   "source": [
    "A={1,2,3}\r\n",
    "B={2,4,5,6}\r\n",
    "print(A.intersection(B))\r\n"
   ],
   "outputs": [],
>>>>>>> 2b651926767e37963a4607c92d96ff584b09c5db
   "metadata": {}
  },
  {
   "cell_type": "markdown",
   "source": [
    "From the following set\n",
    "- add the numbers 4, 5, 6\n",
    "- remove the numbers 1, 2, 3\n",
    "- check if the resulting set is contained in `{1, 2, 4, 5, 6, 10}` "
   ],
   "metadata": {}
  },
  {
   "cell_type": "code",
   "execution_count": 5,
   "source": [
    "x = {0, 1, 2, 3, 6, 7, 8, 9, 10}\r\n",
<<<<<<< HEAD
    "x.update([4,5,6])\r\n",
    "print(x)\r\n",
    "x.remove(1)\r\n",
    "x.remove(2)\r\n",
    "x.remove(3)\r\n",
    "print (x)\r\n",
    "print (x.issubset({1, 2, 4, 5, 6, 10}))"
   ],
   "outputs": [
    {
     "output_type": "stream",
     "name": "stdout",
     "text": [
      "{0, 1, 2, 3, 4, 5, 6, 7, 8, 9, 10}\n",
      "{0, 4, 5, 6, 7, 8, 9, 10}\n",
      "False\n"
     ]
    }
=======
    "\r\n",
    "x=x.union({4,5,6})\r\n",
    "print(x)\r\n",
    "\r\n",
    "x.discard(1)\r\n",
    "x.discard(2)\r\n",
    "x.discard(3)\r\n",
    "print(x)\r\n",
    "\r\n",
    "print({1,2,4,5,6,10} in x)"
>>>>>>> 2b651926767e37963a4607c92d96ff584b09c5db
   ],
   "metadata": {}
  },
  {
   "cell_type": "markdown",
   "source": [
    "## Dictionnaries"
   ],
   "metadata": {}
  },
  {
   "cell_type": "markdown",
   "source": [
    "Propose two ways to define an empty dictionary"
   ],
   "metadata": {}
  },
  {
   "cell_type": "code",
<<<<<<< HEAD
   "execution_count": 4,
   "source": [
    "x = dict()\r\n",
    "y = {}\r\n",
    "print (x, y)"
   ],
   "outputs": [
    {
     "output_type": "stream",
     "name": "stdout",
     "text": [
      "{} {}\n"
     ]
    }
   ],
=======
   "execution_count": null,
   "source": [
    "D1 = {}\r\n",
    "D2=dict()\r\n"
   ],
   "outputs": [],
>>>>>>> 2b651926767e37963a4607c92d96ff584b09c5db
   "metadata": {}
  },
  {
   "cell_type": "markdown",
   "source": [
    "Propose at least 3 ways to define a dictionary with \n",
    "- keys `(\"a\", \"b\", \"c\", \"d\")`\n",
    "- values `(1, 3, 5 , 7)`"
   ],
   "metadata": {}
  },
  {
   "cell_type": "code",
<<<<<<< HEAD
   "execution_count": 6,
   "source": [
    "x = {\"a\": 1, \"b\": 3, \"c\": 5, \"d\": 7}\r\n",
    "y = {}\r\n",
    "y[\"a\"] = 1\r\n",
    "y[\"b\"] = 3\r\n",
    "y[\"c\"] = 5\r\n",
    "y[\"d\"] = 7\r\n",
    "print (x)\r\n",
    "print (y)"
   ],
   "outputs": [
    {
     "output_type": "stream",
     "name": "stdout",
     "text": [
      "{'a': 1, 'b': 3, 'c': 5, 'd': 7}\n",
      "{'a': 1, 'b': 3, 'c': 5, 'd': 7}\n"
     ]
    }
   ],
=======
   "execution_count": null,
   "source": [
    "D1 = {\"a\":1,\"b\":3,\"c\":5,\"d\":7}\r\n",
    "print(D1)\r\n",
    "\r\n",
    "D2={}\r\n",
    "D2[\"a\"] = 1\r\n",
    "D2[\"b\"] = 3\r\n",
    "D2[\"c\"] = 5\r\n",
    "D2[\"d\"] = 7\r\n",
    "print(D2)\r\n"
   ],
   "outputs": [],
>>>>>>> 2b651926767e37963a4607c92d96ff584b09c5db
   "metadata": {}
  },
  {
   "cell_type": "markdown",
   "source": [
    "Given the following dictionary, use indexing to get to the word `\"sdia\"`"
   ],
   "metadata": {}
  },
  {
   "cell_type": "code",
   "execution_count": 51,
   "source": [
    "d = {\r\n",
    "    \"outer\": [\r\n",
    "        1,\r\n",
    "        2,\r\n",
    "        3,\r\n",
    "        {\"inner\": [\"this\", \"is\", \"inception\", {\"inner_inner\": [1, 2, 3, \"sdia\"]}]},\r\n",
    "    ]\r\n",
    "}\r\n",
    "\r\n",
<<<<<<< HEAD
    "print (list((list(list(d.values())[0][3].values())[0][3]).values())[0][3])\r\n",
    "print (d[\"outer\"][3][\"inner\"][3][\"inner_inner\"][3])"
   ],
   "outputs": [
    {
     "output_type": "stream",
     "name": "stdout",
     "text": [
      "sdia\n",
      "sdia\n"
     ]
    }
=======
    "print(d[\"outer\"][3][\"inner\"][3][\"inner_inner\"][3])"
>>>>>>> 2b651926767e37963a4607c92d96ff584b09c5db
   ],
   "metadata": {}
  },
  {
   "cell_type": "markdown",
   "source": [
    "From the following dictionary,\n",
    "- Create the list of keys\n",
    "- Create the list of values\n",
    "- Check if the key `\"abc\"` is present, if not, return `123`.\n",
    "- Merge the initial dictionary with `{\"e\": -1, 4: True}`"
   ],
   "metadata": {}
  },
  {
   "cell_type": "code",
   "execution_count": 58,
   "source": [
    "d1 = dict(zip([(0, 1), \"e\", 1, None], [\"abc\", 4, None, 1 + 2j]))\r\n",
<<<<<<< HEAD
    "keys = []\r\n",
    "values = []\r\n",
    "for cle, valeur in d1.items():\r\n",
    "    keys.append(cle)\r\n",
    "    values.append(valeur)\r\n",
    "print (keys)\r\n",
    "print (values)\r\n",
    "\r\n",
    "a=123\r\n",
    "for i in keys :\r\n",
    "    if i==\"abc\":\r\n",
    "        a = True\r\n",
    "print (a)\r\n",
    "\r\n",
    "z = d1.copy() \r\n",
    "z.update({\"e\": -1, 4: True})    \r\n",
    "print (z)"
   ],
   "outputs": [
    {
     "output_type": "stream",
     "name": "stdout",
     "text": [
      "[(0, 1), 'e', 1, None]\n",
      "['abc', 4, None, (1+2j)]\n",
      "123\n",
      "{(0, 1): 'abc', 'e': -1, 1: None, None: (1+2j), 4: True}\n"
     ]
    }
=======
    "\r\n",
    "Keys=[]\r\n",
    "for key in d1.keys():\r\n",
    "    Keys.append(key)\r\n",
    "print(Keys)\r\n",
    "\r\n",
    "Values=[]\r\n",
    "for value in d1.values():\r\n",
    "    Values.append(value)\r\n",
    "print(Values)\r\n",
    "\r\n",
    "if \"abc\" not in d1:\r\n",
    "    print(\"123\")\r\n",
    "\r\n",
    "newd ={\"e\": -1 , 4:True}\r\n",
    "\r\n",
    "Merged = {**d1 ,**newd}\r\n",
    "\r\n",
    "print(Merged)"
>>>>>>> 2b651926767e37963a4607c92d96ff584b09c5db
   ],
   "metadata": {}
  },
  {
   "cell_type": "markdown",
   "source": [
    "## Conditions"
   ],
   "metadata": {}
  },
  {
   "cell_type": "markdown",
   "source": [
    "Propose two ways to construct the list of odd values ranging from 0 to 30"
   ],
   "metadata": {}
  },
  {
   "cell_type": "code",
<<<<<<< HEAD
   "execution_count": 60,
   "source": [
    "l = [i for i in range (1, 30, 2)]\r\n",
    "print (l)\r\n",
    "\r\n",
    "l1 = []\r\n",
    "for i in range (15):\r\n",
    "    l1.append (1+2*i)\r\n",
    "print(l1)"
   ],
   "outputs": [
    {
     "output_type": "stream",
     "name": "stdout",
     "text": [
      "[1, 3, 5, 7, 9, 11, 13, 15, 17, 19, 21, 23, 25, 27, 29]\n",
      "[1, 3, 5, 7, 9, 11, 13, 15, 17, 19, 21, 23, 25, 27, 29]\n"
     ]
    }
   ],
=======
   "execution_count": null,
   "source": [
    "L=[]\r\n",
    "for i in range(31):\r\n",
    "    if i%2 == 1:\r\n",
    "        L.append(i)\r\n",
    "print(L)\r\n",
    "\r\n",
    "L=[2*i +1 for i in range(30//2)]\r\n",
    "print(L)"
   ],
   "outputs": [],
>>>>>>> 2b651926767e37963a4607c92d96ff584b09c5db
   "metadata": {}
  },
  {
   "cell_type": "markdown",
   "source": [
    "From the following list, create another list which contains\n",
    "- `\"fiz\"` if the item is a multiple of 5,\n",
    "- `\"buz\"` if the item is a multiple of 7,\n",
    "- `\"fizbuz\"` if the item is a both a multiple of 5 and 7,\n",
    "- the index of the item otherwise."
   ],
   "metadata": {}
  },
  {
   "cell_type": "code",
   "execution_count": 61,
   "source": [
    "x = [2, 1, 3, 31, 35, 20, 70, 132, 144, 49]\r\n",
<<<<<<< HEAD
    "l = []\r\n",
    "for i in range (len(x)):\r\n",
    "    if x[i]%5==0:\r\n",
    "        if x[i]%7==0:\r\n",
    "            l.append (\"fizbuz\")\r\n",
    "        else :\r\n",
    "            l.append (\"fiz\")\r\n",
    "    elif x[i]%7==0:\r\n",
    "        l.append (\"buz\")\r\n",
    "    else :\r\n",
    "        l.append (i)\r\n",
    "print (l)   "
   ],
   "outputs": [
    {
     "output_type": "stream",
     "name": "stdout",
     "text": [
      "[0, 1, 2, 3, 'fizbuz', 'fiz', 'fizbuz', 7, 8, 'buz']\n"
     ]
    }
=======
    "\r\n",
    "R=[]\r\n",
    "for i in range(len(x)):\r\n",
    "    M5 = (x[i]%5 ==0)\r\n",
    "    M7 = (x[i]%7 ==0)\r\n",
    "    if M5 and M7 :\r\n",
    "        R.append(\"fizbuz\")\r\n",
    "    else:\r\n",
    "        if M5:\r\n",
    "            R.append(\"fiz\")\r\n",
    "        if M7:\r\n",
    "            R.append(\"buz\")\r\n",
    "    if not M5 and not M7:\r\n",
    "        R.append(i)\r\n",
    "\r\n",
    "print(R)\r\n",
    "    "
>>>>>>> 2b651926767e37963a4607c92d96ff584b09c5db
   ],
   "metadata": {}
  },
  {
   "cell_type": "markdown",
   "source": [
    "Given a string variable `course`, construct a `if/elif/else` statement that prints:\n",
    "- `\"That is very useful!\"` if `course` is `\"maths\"` (any kind of capitalization)\n",
    "- `\"That is very useful!\"` if `course` is `\"python\"` (any kind of capitalization)\n",
    "- `\"How nice!\"` if `course` is `\"meditation\"` (any kind of capitalization)\n",
    "- `\"You're not at Hogwarts\"` if `course` is `\"magic\"` (any kind of capitalization)\n",
    "- otherwise `\"What is this COURSE?\"` if `course` is anything else."
   ],
   "metadata": {}
  },
  {
   "cell_type": "code",
<<<<<<< HEAD
   "execution_count": 64,
   "source": [
    "course = \"maths\"\r\n",
    "course = course.upper()\r\n",
    "if course == \"MATHS\":\r\n",
    "    print (\"That is very useful!\")\r\n",
    "elif course == \"PYTHON\":\r\n",
    "    print (\"That is very useful!\")\r\n",
    "elif course == \"MEDITATION\":\r\n",
    "    print (\"How nice!\")\r\n",
    "elif course == \"MAGIC\":\r\n",
    "    print (\"You're not at Hogwarts\")\r\n",
    "else :\r\n",
    "    print (\"What is this COURSE?\")"
   ],
   "outputs": [
    {
     "output_type": "stream",
     "name": "stdout",
     "text": [
      "That is very useful!\n"
     ]
    }
   ],
=======
   "execution_count": null,
   "source": [
    "course = \"MaGiC\"\r\n",
    "\r\n",
    "course = course.capitalize()\r\n",
    "if course == \"Maths\" or course == \"Python\" :\r\n",
    "    print(\"That is very useful!\")\r\n",
    "elif course == \"Meditation\" :\r\n",
    "    print(\"How nice!\")\r\n",
    "elif course == \"Magic\":\r\n",
    "    print(\"You're not at Hogwarts\")\r\n",
    "else :\r\n",
    "    print(\"What is this COURSE?\")"
   ],
   "outputs": [],
>>>>>>> 2b651926767e37963a4607c92d96ff584b09c5db
   "metadata": {}
  },
  {
   "cell_type": "markdown",
   "source": [
    "Given the following variables, create and print the string\r\n",
    "\r\n",
    "``quantity`` ``fruit``(s) cost(s) $``price``\r\n",
    "\r\n",
    "such that\r\n",
    "- there is an `\"s\"` at `\"cost\"` when there is more only one fruit,\r\n",
    "- there is an `\"s\"` at `\"fruit\"` when there is more that one fruit,\r\n",
    "- the price is displayed as ...,xxx,xxx.yy where yy corresponds rounded cents value"
   ],
   "metadata": {}
  },
  {
   "cell_type": "code",
   "execution_count": 72,
   "source": [
<<<<<<< HEAD
    "quantity = 9\r\n",
    "fruit = \"avocado\"\r\n",
    "price = 1.8912392e4\r\n",
    "\r\n",
    "cout = \"costs \"\r\n",
    "fruit = \" fruit \"\r\n",
    "if quantity > 1 :\r\n",
    "    cout = \"cost \"\r\n",
    "    fruit = \" fruits \"\r\n",
    "prix = quantity * price\r\n",
    "prix1 = \"{:,.2f}\".format(prix)\r\n",
    "\r\n",
    "string = str(quantity)+fruit+cout+\"$\"+prix1\r\n",
    "print (string)"
   ],
   "outputs": [
    {
     "output_type": "stream",
     "name": "stdout",
     "text": [
      "9 fruits cost $170,211.53\n"
     ]
    }
=======
    "quantity = 5\r\n",
    "fruit = \"avocado\"\r\n",
    "price = 1.8912392e4\r\n",
    "\r\n",
    "cout=\"cost\"\r\n",
    "if quantity==1:\r\n",
    "    cout += \"s\"\r\n",
    "else:\r\n",
    "    fruit += \"s\"\r\n",
    "\r\n",
    "pricestr=str(round(price,2))\r\n",
    "\r\n",
    "print(str(quantity) +\" \"+ fruit +\" \"+ cout +\" \"+ pricestr +\"€\")\r\n",
    "\r\n",
    "\r\n",
    "\r\n",
    "\r\n",
    "\r\n"
>>>>>>> 2b651926767e37963a4607c92d96ff584b09c5db
   ],
   "metadata": {}
  },
  {
   "cell_type": "markdown",
   "source": [
    "## Functions\n",
    "\n",
    "- Create your function in `src/lab1/functions.py` files\n",
    "- Import them using `from lab1.functions import MYFUNCTION`"
   ],
   "metadata": {}
  },
  {
   "cell_type": "markdown",
   "source": [
    "Define the function `is_unique(x)` which takes a list of integers `x` as input and returns `True` if the there is no duplicate items otherwise return `False`."
   ],
   "metadata": {}
  },
  {
   "cell_type": "code",
<<<<<<< HEAD
   "execution_count": 76,
   "source": [
    "from lab1.functions import is_unique\r\n",
    "print(is_unique([1,2,3,4,5]))\r\n",
    "print(is_unique([1,2,3,5,5]))"
   ],
   "outputs": [
    {
     "output_type": "stream",
     "name": "stdout",
     "text": [
      "True\n",
      "False\n"
     ]
    }
   ],
=======
   "execution_count": null,
   "source": [
    "from lab1.functions import is_unique\r\n",
    "\r\n",
    "print(is_unique([1,2,3,4,1,5,6,8,7,9]))"
   ],
   "outputs": [],
>>>>>>> 2b651926767e37963a4607c92d96ff584b09c5db
   "metadata": {}
  },
  {
   "cell_type": "markdown",
   "source": [
    "Define a function `triangle_shape(height)`, that returns \n",
    "- `\"\"` if `height=0`, \n",
    "- otherwise it returns a string that forms a triangle with height prescribed by `height`.\n",
    "\n",
    "**Examples**\n",
    "\n",
    "height=1\n",
    "```\n",
    "x\n",
    "```\n",
    "\n",
    "height=2\n",
    "```\n",
    " x \n",
    "xxx\n",
    "```\n",
    "\n",
    "height=3\n",
    "```\n",
    "  x  \n",
    " xxx \n",
    "xxxxx\n",
    "```\n",
    "\n",
    "height=4\n",
    "```\n",
    "   x   \n",
    "  xxx  \n",
    " xxxxx \n",
    "xxxxxxx\n",
    "```\n",
    "\n",
    "height=5\n",
    "```\n",
    "    x    \n",
    "   xxx   \n",
    "  xxxxx  \n",
    " xxxxxxx \n",
    "xxxxxxxxx\n",
    "```\n",
    "\n",
    "height=6\n",
    "```\n",
    "     x     \n",
    "    xxx    \n",
    "   xxxxx   \n",
    "  xxxxxxx  \n",
    " xxxxxxxxx \n",
    "xxxxxxxxxxx\n",
    "```"
   ],
   "metadata": {}
  },
  {
   "cell_type": "code",
<<<<<<< HEAD
   "execution_count": 6,
   "source": [
    "from lab1.functions import triangle_shape"
   ],
   "outputs": [
    {
     "output_type": "error",
     "ename": "ModuleNotFoundError",
     "evalue": "No module named 'lab1.functions'",
     "traceback": [
      "\u001b[1;31m---------------------------------------------------------------------------\u001b[0m",
      "\u001b[1;31mModuleNotFoundError\u001b[0m                       Traceback (most recent call last)",
      "\u001b[1;32m~\\AppData\\Local\\Temp/ipykernel_3408/3059928792.py\u001b[0m in \u001b[0;36m<module>\u001b[1;34m\u001b[0m\n\u001b[1;32m----> 1\u001b[1;33m \u001b[1;32mfrom\u001b[0m \u001b[0mlab1\u001b[0m\u001b[1;33m.\u001b[0m\u001b[0mfunctions\u001b[0m \u001b[1;32mimport\u001b[0m \u001b[0mtriangle_shape\u001b[0m\u001b[1;33m\u001b[0m\u001b[1;33m\u001b[0m\u001b[0m\n\u001b[0m",
      "\u001b[1;31mModuleNotFoundError\u001b[0m: No module named 'lab1.functions'"
     ]
    }
   ],
   "metadata": {}
  },
  {
   "cell_type": "code",
   "execution_count": 102,
   "source": [
    "print(triangle_shape(15))"
   ],
   "outputs": [
    {
     "output_type": "stream",
     "name": "stdout",
     "text": [
      "              x\n",
      "             xxx\n",
      "            xxxxx\n",
      "           xxxxxxx\n",
      "          xxxxxxxxx\n",
      "         xxxxxxxxxxx\n",
      "        xxxxxxxxxxxxx\n",
      "       xxxxxxxxxxxxxxx\n",
      "      xxxxxxxxxxxxxxxxx\n",
      "     xxxxxxxxxxxxxxxxxxx\n",
      "    xxxxxxxxxxxxxxxxxxxxx\n",
      "   xxxxxxxxxxxxxxxxxxxxxxx\n",
      "  xxxxxxxxxxxxxxxxxxxxxxxxx\n",
      " xxxxxxxxxxxxxxxxxxxxxxxxxxx\n",
      "xxxxxxxxxxxxxxxxxxxxxxxxxxxxx\n",
      "\n"
     ]
    }
   ],
   "metadata": {}
  },
  {
   "cell_type": "code",
   "execution_count": null,
   "source": [],
=======
   "execution_count": null,
   "source": [
    "from lab1.functions import triangle_shape\r\n",
    "\r\n",
    "print(triangle_shape(10))"
   ],
>>>>>>> 2b651926767e37963a4607c92d96ff584b09c5db
   "outputs": [],
   "metadata": {}
  }
 ],
 "metadata": {
  "interpreter": {
   "hash": "e67e891bd32a2e964c885673f23ebcde7684b633846306a4968020d963c68f3d"
  },
  "kernelspec": {
   "name": "python3",
   "display_name": "Python 3.8.11 64-bit ('sdia-python': conda)"
  },
  "language_info": {
   "codemirror_mode": {
    "name": "ipython",
    "version": 3
   },
   "file_extension": ".py",
   "mimetype": "text/x-python",
   "name": "python",
   "nbconvert_exporter": "python",
<<<<<<< HEAD
   "pygments_lexer": "ipython3",
   "version": "3.8.11"
=======
   "file_extension": ".py"
  },
  "kernelspec": {
   "name": "python3",
   "display_name": "Python 3.8.11 64-bit ('sdia-python': conda)"
  },
  "interpreter": {
   "hash": "b7a14428d0679a388d12d4d70095ebadfa2b4123e67a2bea52c5cc1555b33208"
>>>>>>> 2b651926767e37963a4607c92d96ff584b09c5db
  }
 },
 "nbformat": 4,
 "nbformat_minor": 2
}