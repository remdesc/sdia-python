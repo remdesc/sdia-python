{
 "cells": [
  {
   "cell_type": "code",
<<<<<<< HEAD
   "execution_count": 110,
=======
   "execution_count": null,
>>>>>>> 2b651926767e37963a4607c92d96ff584b09c5db
   "source": [
    "%load_ext autoreload\r\n",
    "%autoreload 2"
   ],
   "outputs": [
    {
     "output_type": "stream",
     "name": "stdout",
     "text": [
      "The autoreload extension is already loaded. To reload it, use:\n",
      "  %reload_ext autoreload\n"
     ]
    }
   ],
   "metadata": {}
  },
  {
   "cell_type": "code",
   "execution_count": 111,
   "source": [
    "from lab2.utils import get_random_number_generator\r\n",
    "import numpy as np\r\n",
    "\r\n",
    "class BoxWindow:\r\n",
    "    \"\"\"[summary]\"\"\"\r\n",
    "\r\n",
    "    def __init__(self, args):\r\n",
    "        \"\"\"[summary]\r\n",
    "\r\n",
    "        Args:\r\n",
    "            args ([type]): [description]\r\n",
    "        \"\"\"\r\n",
    "        self.bounds = np.array(args)\r\n",
    "\r\n",
    "    def __str__(self):\r\n",
    "        r\"\"\"BoxWindow: :math:`[a_1, b_1] \\times [a_2, b_2] \\times \\cdots`\r\n",
    "\r\n",
    "        Returns:\r\n",
    "            [type]: [description]\r\n",
    "        \"\"\"\r\n",
    "        res = \"BoxWindow: \"\r\n",
    "        for i in range(len(self.bounds) - 1):\r\n",
    "            res = res + \"[\"\r\n",
    "            n=len(self.bounds[i])\r\n",
    "            for j in range (n-1):\r\n",
    "                res = res + str(self.bounds[i][j]) + \", \"\r\n",
    "            res = res + str(self.bounds[i][n-1]) + \"] x \"\r\n",
    "        res = res + \"[\"\r\n",
    "        n=len(self.bounds[len(self.bounds) - 1])\r\n",
    "        for j in range (n-1):\r\n",
    "            res = res + str(self.bounds[len(self.bounds) - 1][j]) + \", \"\r\n",
    "        res = res + str(self.bounds[len(self.bounds) - 1][n-1]) + \"]\"\r\n",
    "        return res\r\n",
    "\r\n",
    "    def __len__(self):\r\n",
    "        return len(self.bounds)\r\n",
    "\r\n",
    "    def __contains__(self, args):\r\n",
    "        if len(args)!=len(self.bounds):\r\n",
    "            return False\r\n",
    "        else :\r\n",
    "            for i in range (len(args)):\r\n",
    "                if args[i]<=self.bounds[i][0] or args[i]>=self.bounds[i][1]:\r\n",
    "                    return False\r\n",
    "        return True\r\n",
    "\r\n",
    "    def dimension(self):\r\n",
    "        \"\"\"[summary]\"\"\"\r\n",
    "        return len(self)\r\n",
    "\r\n",
    "    def volume(self):\r\n",
    "        \"\"\"[summary]\"\"\"\r\n",
    "        res = self.bounds[0][1]-self.bounds[0][0]\r\n",
    "        for i in range (1, len(self.bounds)):\r\n",
    "            res = res * self.bounds[i][1]-self.bounds[i][0] \r\n",
    "        return res\r\n",
    "\r\n",
    "    def indicator_function(self, args):\r\n",
    "        \"\"\"[summary]\r\n",
    "\r\n",
    "        Args:\r\n",
    "            args ([type]): [description]\r\n",
    "        \"\"\"\r\n",
    "        if self.__contains__(args):\r\n",
    "            return 1\r\n",
    "        else :\r\n",
    "            return 0\r\n",
    "\r\n",
    "    def rand(self, n=1, rng=None):\r\n",
    "        \"\"\"Generate ``n`` points uniformly at random inside the :py:class:`BoxWindow`.\r\n",
    "\r\n",
    "        Args:\r\n",
    "            n (int, optional): [description]. Defaults to 1.\r\n",
    "            rng ([type], optional): [description]. Defaults to None.\r\n",
    "        \"\"\"\r\n",
    "        rng = get_random_number_generator(rng)\r\n",
    "        return\r\n",
    "\r\n",
    "\r\n",
    "class UnitBoxWindow(BoxWindow):\r\n",
    "    def __init__(self, center, dimension):\r\n",
    "        \"\"\"[summary]\r\n",
    "\r\n",
    "        Args:\r\n",
    "            dimension ([type]): [description]\r\n",
    "            center ([type], optional): [description]. Defaults to None.\r\n",
    "        \"\"\"\r\n",
    "        super(BoxWindow, self).__init__(args)\r\n"
   ],
   "outputs": [],
   "metadata": {}
  },
  {
   "cell_type": "code",
   "execution_count": 112,
   "source": [
    "Bw = BoxWindow(np.array([[2.5, 3.14], [5, 10]]))"
   ],
   "outputs": [],
   "metadata": {}
  },
  {
   "cell_type": "code",
   "execution_count": 113,
   "source": [
    "print(Bw.volume())"
   ],
   "outputs": [
    {
     "output_type": "stream",
     "name": "stdout",
     "text": [
      "1.4000000000000012\n"
     ]
    }
   ],
   "metadata": {}
  },
  {
   "cell_type": "code",
   "execution_count": 115,
   "source": [
    "print(Bw.indicator_function(np.array([2,7])))"
   ],
   "outputs": [
    {
     "output_type": "stream",
     "name": "stdout",
     "text": [
      "0\n"
     ]
    }
   ],
   "metadata": {}
  },
  {
   "cell_type": "code",
   "execution_count": null,
   "source": [],
   "outputs": [],
   "metadata": {}
  },
  {
   "cell_type": "markdown",
   "source": [
    "To approximate Pi, we use 2 2D-windows : \r\n",
    "  1. a UnitWindow with center [0,0]\r\n",
    "  2. a Ball window centered also in [0,0] and with radius=0.5\r\n",
    "\r\n",
    "To calculate Pi, we generate N numbers in the Unit Window and we count the numbers of points that are in the Ball window over the total number of points.\r\n",
    "\r\n",
    "Doing that, we approximate the ratio between the area of the ball window (=pi/4) and the area of the UnitWindow(=1)\r\n",
    "\r\n",
    "So we have an access to pi."
   ],
   "metadata": {}
  },
  {
   "cell_type": "code",
   "execution_count": null,
   "source": [
    "from lab2.box_window import *\r\n",
    "from lab2.ball_window import *\r\n",
    "\r\n",
    "UnitWin = UnitBoxWindow(np.array([0,0]),2)\r\n",
    "BallWin =  BallWindow(np.array([0,0]),0.5)\r\n",
    "\r\n",
    "\r\n",
    "N=100000\r\n",
    "Points = UnitWin.rand(N) # We throw N points in the Unit Window\r\n",
    "\r\n",
    "nbPointsInBallWin = 0\r\n",
    "for p in Points:                # We count the numbers of points \r\n",
    "    if p in BallWin :           # in the ball window\r\n",
    "        nbPointsInBallWin += 1\r\n",
    "\r\n",
    "\r\n",
    "\r\n",
    "print(4*nbPointsInBallWin/N)    #We should have an approximation of pi"
   ],
   "outputs": [],
   "metadata": {}
  },
  {
   "cell_type": "code",
   "execution_count": null,
   "source": [],
   "outputs": [],
   "metadata": {}
  }
 ],
 "metadata": {
  "orig_nbformat": 4,
  "language_info": {
   "name": "python",
   "version": "3.8.11",
   "mimetype": "text/x-python",
   "codemirror_mode": {
    "name": "ipython",
    "version": 3
   },
   "pygments_lexer": "ipython3",
   "nbconvert_exporter": "python",
   "file_extension": ".py"
  },
  "kernelspec": {
   "name": "python3",
   "display_name": "Python 3.8.11 64-bit ('sdia-python': conda)"
  },
  "interpreter": {
<<<<<<< HEAD
   "hash": "76bfc7b60fb4c167903a213ee99b9ea4ba2fa425bc4b7eb52a4594854bb523c1"
=======
   "hash": "b7a14428d0679a388d12d4d70095ebadfa2b4123e67a2bea52c5cc1555b33208"
>>>>>>> 2b651926767e37963a4607c92d96ff584b09c5db
  }
 },
 "nbformat": 4,
 "nbformat_minor": 2
}